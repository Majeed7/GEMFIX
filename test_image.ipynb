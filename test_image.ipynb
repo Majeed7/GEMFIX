{
 "cells": [
  {
   "cell_type": "code",
   "execution_count": 15,
   "metadata": {},
   "outputs": [],
   "source": [
    "import torch\n",
    "from torch.utils.data import DataLoader\n",
    "from torchvision import datasets, transforms\n",
    "from transformers import AutoModelForImageClassification, AutoFeatureExtractor\n",
    "import matplotlib.pyplot as plt\n",
    "import numpy as np\n",
    "\n",
    "batch_size = 64\n",
    "transform = transforms.Compose([\n",
    "    transforms.ToTensor(),  # Convert images to PyTorch tensors\n",
    "    transforms.Normalize((0.1307,), (0.3081,))  # Normalize the MNIST dataset\n",
    "])\n",
    "\n",
    "# Download training data\n",
    "train_set = datasets.MNIST(root='./data', train=True, download=True, transform=transform)\n",
    "train_loader = DataLoader(train_set, batch_size=batch_size, shuffle=True)\n",
    "\n",
    "# Download test data\n",
    "test_set = datasets.MNIST(root='./data', train=False, download=True, transform=transform)\n",
    "test_loader = DataLoader(test_set, batch_size=batch_size, shuffle=False)\n"
   ]
  },
  {
   "cell_type": "code",
   "execution_count": 80,
   "metadata": {},
   "outputs": [],
   "source": [
    "import torch\n",
    "import torch.nn as nn\n",
    "import torch.optim as optim\n",
    "from torch.utils.data import DataLoader\n",
    "from torchvision import datasets, transforms\n",
    "import matplotlib.pyplot as plt\n",
    "\n",
    "class LeNet(nn.Module):\n",
    "    def __init__(self):\n",
    "        super(LeNet, self).__init__()\n",
    "        self.conv1 = nn.Conv2d(1, 20, 5, 1)\n",
    "        self.conv2 = nn.Conv2d(20, 50, 5, 1)\n",
    "        self.fc1 = nn.Linear(4*4*50, 500)\n",
    "        self.fc2 = nn.Linear(500, 10)\n",
    "\n",
    "    def forward(self, x):\n",
    "        x = torch.relu(self.conv1(x))\n",
    "        x = torch.max_pool2d(x, 2, 2)\n",
    "        x = torch.relu(self.conv2(x))\n",
    "        x = torch.max_pool2d(x, 2, 2)\n",
    "        x = x.view(-1, 4*4*50)\n",
    "        x = torch.relu(self.fc1(x))\n",
    "        x = self.fc2(x)\n",
    "        return x\n",
    "\n"
   ]
  },
  {
   "cell_type": "code",
   "execution_count": 11,
   "metadata": {},
   "outputs": [
    {
     "name": "stdout",
     "output_type": "stream",
     "text": [
      "Epoch 1, Loss: 0.10090438276529312\n",
      "Epoch 2, Loss: 0.09125611931085587\n",
      "Epoch 3, Loss: 0.0011607807828113437\n",
      "Epoch 4, Loss: 0.0008392716408707201\n",
      "Epoch 5, Loss: 0.005084543488919735\n",
      "Epoch 6, Loss: 0.00025971693685278296\n",
      "Epoch 7, Loss: 0.017525911331176758\n",
      "Epoch 8, Loss: 0.004148777574300766\n",
      "Epoch 9, Loss: 0.032408542931079865\n",
      "Epoch 10, Loss: 0.0023209520149976015\n",
      "Epoch 11, Loss: 0.0008168990025296807\n",
      "Epoch 12, Loss: 0.0002334930468350649\n",
      "Epoch 13, Loss: 0.001467919908463955\n",
      "Epoch 14, Loss: 0.00038959740777499974\n",
      "Epoch 15, Loss: 3.732561481228913e-06\n",
      "Epoch 16, Loss: 0.001443771063350141\n",
      "Epoch 17, Loss: 2.3993208742467687e-05\n",
      "Epoch 18, Loss: 2.682158765310305e-06\n",
      "Epoch 19, Loss: 1.605621218914166e-05\n",
      "Epoch 20, Loss: 0.0004048168775625527\n",
      "Finished Training and saved the model as lenet_mnist_model.pth\n"
     ]
    }
   ],
   "source": [
    "def train_model():\n",
    "    # Define transformations for the input data\n",
    "    transform = transforms.Compose([\n",
    "        transforms.ToTensor(),  # Convert images to PyTorch tensors\n",
    "        transforms.Normalize((0.1307,), (0.3081,))  # Normalize the MNIST dataset\n",
    "    ])\n",
    "\n",
    "    # Load the datasets\n",
    "    train_set = datasets.MNIST(root='./data', train=True, download=True, transform=transform)\n",
    "    train_loader = DataLoader(train_set, batch_size=64, shuffle=True)\n",
    "\n",
    "    # Initialize the network and optimizer\n",
    "    model = LeNet()\n",
    "    optimizer = optim.SGD(model.parameters(), lr=0.01, momentum=0.9)\n",
    "\n",
    "    # Define loss function\n",
    "    criterion = nn.CrossEntropyLoss()\n",
    "\n",
    "    # Train the network\n",
    "    model.train()\n",
    "    for epoch in range(20):  # Loop over the dataset multiple times (5 epochs for brevity)\n",
    "        for data, target in train_loader:\n",
    "            optimizer.zero_grad()\n",
    "            output = model(data)\n",
    "            loss = criterion(output, target)\n",
    "            loss.backward()\n",
    "            optimizer.step()\n",
    "        print(f'Epoch {epoch+1}, Loss: {loss.item()}')\n",
    "\n",
    "    # Save the trained model\n",
    "    torch.save(model.state_dict(), 'lenet_mnist_model.pth')\n",
    "    print('Finished Training and saved the model as lenet_mnist_model.pth')\n",
    "\n",
    "train_model()\n"
   ]
  },
  {
   "cell_type": "code",
   "execution_count": 12,
   "metadata": {},
   "outputs": [
    {
     "data": {
      "image/png": "[encoded data removed]",
      "text/plain": [
       "<Figure size 640x480 with 1 Axes>"
      ]
     },
     "metadata": {},
     "output_type": "display_data"
    }
   ],
   "source": [
    "def load_pretrained_model_and_predict():\n",
    "    # Load the pretrained model\n",
    "    model = LeNet()\n",
    "    model.load_state_dict(torch.load('lenet_mnist_model.pth'))\n",
    "    model.eval()\n",
    "\n",
    "    # Load one example from the MNIST test set\n",
    "    test_set = datasets.MNIST(root='./data', train=False, transform=transforms.ToTensor())\n",
    "    test_loader = DataLoader(test_set, batch_size=1, shuffle=True)\n",
    "    data, target = next(iter(test_loader))\n",
    "\n",
    "    # Predict\n",
    "    with torch.no_grad():\n",
    "        output = model(data)\n",
    "        pred = output.argmax(dim=1, keepdim=True)  # Get the index of the max log-probability\n",
    "\n",
    "    # Show the input image and the model's prediction\n",
    "    plt.imshow(data[0][0].numpy(), cmap='gray', interpolation='none')\n",
    "    plt.title(f'Prediction: {pred.item()}')\n",
    "    plt.axis('off')\n",
    "    plt.show()\n",
    "\n",
    "load_pretrained_model_and_predict()\n"
   ]
  },
  {
   "cell_type": "code",
   "execution_count": 13,
   "metadata": {},
   "outputs": [
    {
     "name": "stdout",
     "output_type": "stream",
     "text": [
      "\n",
      "Test set: Average loss: 0.0274, Accuracy: 9942/10000 (99%)\n",
      "\n"
     ]
    },
    {
     "data": {
      "image/png": "[encoded data removed]",
      "text/plain": [
       "<Figure size 1000x800 with 2 Axes>"
      ]
     },
     "metadata": {},
     "output_type": "display_data"
    }
   ],
   "source": [
    "import torch\n",
    "from torchvision import datasets, transforms\n",
    "from torch.utils.data import DataLoader\n",
    "import matplotlib.pyplot as plt\n",
    "import seaborn as sns\n",
    "from sklearn.metrics import confusion_matrix\n",
    "import numpy as np\n",
    "\n",
    "def evaluate_model(model, device):\n",
    "    # Transformation for evaluating model\n",
    "    transform = transforms.Compose([\n",
    "        transforms.ToTensor(),\n",
    "        transforms.Normalize((0.1307,), (0.3081,))\n",
    "    ])\n",
    "\n",
    "    # Load MNIST test data\n",
    "    test_set = datasets.MNIST(root='./data', train=False, download=True, transform=transform)\n",
    "    test_loader = DataLoader(test_set, batch_size=1000, shuffle=False)\n",
    "\n",
    "    model.eval()  # Set the model to evaluation mode\n",
    "    model.to(device)\n",
    "\n",
    "    test_loss = 0\n",
    "    correct = 0\n",
    "    all_preds = []\n",
    "    all_targets = []\n",
    "\n",
    "    with torch.no_grad():  # Operations inside don't track history\n",
    "        for data, target in test_loader:\n",
    "            data, target = data.to(device), target.to(device)\n",
    "            output = model(data)\n",
    "            test_loss += torch.nn.functional.cross_entropy(output, target, reduction='sum').item()  # Sum up batch loss\n",
    "            pred = output.argmax(dim=1, keepdim=True)  # Get the index of the max log-probability\n",
    "            correct += pred.eq(target.view_as(pred)).sum().item()\n",
    "            all_preds.extend(pred.view(-1).tolist())\n",
    "            all_targets.extend(target.view(-1).tolist())\n",
    "\n",
    "    test_loss /= len(test_loader.dataset)\n",
    "\n",
    "    print('\\nTest set: Average loss: {:.4f}, Accuracy: {}/{} ({:.0f}%)\\n'.format(\n",
    "        test_loss, correct, len(test_loader.dataset),\n",
    "        100. * correct / len(test_loader.dataset)))\n",
    "\n",
    "    # Confusion Matrix\n",
    "    conf_matrix = confusion_matrix(all_targets, all_preds)\n",
    "    plt.figure(figsize=(10, 8))\n",
    "    sns.heatmap(conf_matrix, annot=True, fmt=\"d\", cmap='Blues')\n",
    "    plt.ylabel('Actual')\n",
    "    plt.xlabel('Predicted')\n",
    "    plt.title('Confusion Matrix')\n",
    "    plt.show()\n",
    "\n",
    "# Example usage\n",
    "device = torch.device(\"cuda\" if torch.cuda.is_available() else \"cpu\")\n",
    "model = LeNet()  # Assuming LeNet is already defined\n",
    "model.load_state_dict(torch.load('lenet_mnist_model.pth'))\n",
    "evaluate_model(model, device)\n"
   ]
  },
  {
   "cell_type": "code",
   "execution_count": 22,
   "metadata": {},
   "outputs": [
    {
     "data": {
      "text/plain": [
       "torch.Size([1, 28, 28])"
      ]
     },
     "execution_count": 22,
     "metadata": {},
     "output_type": "execute_result"
    }
   ],
   "source": [
    "train_set[0][0].shape"
   ]
  },
  {
   "cell_type": "code",
   "execution_count": 25,
   "metadata": {},
   "outputs": [
    {
     "data": {
      "text/plain": [
       "tensor([[-19.0063,   3.8866, -14.5780,  26.7414, -15.9117,  37.7552, -18.0348,\n",
       "          -8.7614,   2.3636,   4.1386]], grad_fn=<AddmmBackward0>)"
      ]
     },
     "execution_count": 25,
     "metadata": {},
     "output_type": "execute_result"
    },
    {
     "data": {
      "image/png": "[encoded data removed]",
      "text/plain": [
       "<Figure size 640x480 with 1 Axes>"
      ]
     },
     "metadata": {},
     "output_type": "display_data"
    }
   ],
   "source": [
    "import matplotlib\n",
    "import matplotlib.pyplot\n",
    "matplotlib.pyplot.imshow(train_set[0][0].squeeze())\n",
    "\n",
    "model(train_set[0][0])"
   ]
  },
  {
   "cell_type": "code",
   "execution_count": 112,
   "metadata": {},
   "outputs": [],
   "source": [
    "import numpy as np\n",
    "import matplotlib.pyplot as plt\n",
    "from skimage.segmentation import slic\n",
    "from skimage.color import label2rgb, rgb2gray\n",
    "from skimage import io\n",
    "from skimage.color import rgb2gray\n",
    "from sklearn.linear_model import LogisticRegression  # Example classifier\n",
    "\n",
    "class ImageSuperpixelWrapper:\n",
    "    def __init__(self, image, n_segments=100, compactness=10.0, sigma=1.0, classifier=None, explanation_index=0):\n",
    "        #self.image = io.imread(image_path)\n",
    "        if type(image) == 'str':\n",
    "            self.image = io.imread(image)\n",
    "            if self.image.ndim == 3:\n",
    "                self.image = rgb2gray(self.image)  # Convert to greyscale if not already\n",
    "        else:\n",
    "            self.image = image\n",
    "\n",
    "        self.n_segments = n_segments\n",
    "        self.compactness = compactness\n",
    "        self.sigma = sigma\n",
    "        self.segments = slic(self.image, n_segments=n_segments, compactness=self.compactness, sigma=self.sigma, channel_axis=None)\n",
    "        self.n_segments = np.max(self.segments)\n",
    "        self.vector = np.ones(self.n_segments)\n",
    "        self.classifier = classifier\n",
    "        self.explanation_index = explanation_index\n",
    "\n",
    "    def show_segments(self):\n",
    "        fig, ax = plt.subplots(1, 1, figsize=(10, 6), sharex=True, sharey=True)\n",
    "        ax.imshow(label2rgb(self.segments, self.image, kind='avg'), interpolation='nearest')\n",
    "        ax.set_title('SLIC Segmentation')\n",
    "        ax.axis('off')\n",
    "        plt.show()\n",
    "\n",
    "    def encode_superpixels(self):\n",
    "        # Binary vector for superpixels' presence\n",
    "        self.vector = np.ones(self.n_segments)\n",
    "\n",
    "    def remove_superpixel(self, sp_id):\n",
    "        # Set to 0 in binary vector\n",
    "        modified_img = self.image.copy()\n",
    "        modified_img[self.segments == sp_id] = [128, 128, 128]  # Grey out the superpixel\n",
    "        modified_img.vector[sp_id] = 0\n",
    "    \n",
    "        return modified_img\n",
    "\n",
    "    def binary_encode(self, binary_code):\n",
    "        modified_img = self.image.copy()\n",
    "        remove_idx = np.where(np.array(binary_code) == 0)\n",
    "        index = np.isin(self.segments, remove_idx)\n",
    "        modified_img[index] = 0\n",
    "        \n",
    "        return modified_img\n",
    "\n",
    "\n",
    "    def map_original_to_superpixel(self):\n",
    "        # Maps each pixel to its superpixel ID\n",
    "        return self.segments\n",
    "\n",
    "    def map_superpixel_to_original(self, sp_id):\n",
    "        # Find all pixels belonging to a given superpixel ID\n",
    "        return np.argwhere(self.segments == sp_id)\n",
    "    \n",
    "    def __call__(self, binary_encode):\n",
    "        modified_image = self.binary_encode(binary_encode)\n",
    "        probabilities = torch.nn.functional.softmax(self.classifier(torch.from_numpy(modified_image).unsqueeze(0)), dim=1).squeeze(0)\n",
    "\n",
    "        return probabilities.detach().numpy().squeeze()[self.explanation_index]\n",
    "\n",
    "\n",
    "# Example usage:\n",
    "# Load an image and a trained classifier (dummy example here)\n",
    "wrapper = ImageSuperpixelWrapper(train_set[0][0].squeeze().numpy(), classifier=model)\n",
    "\n",
    "# Encode superpixels\n",
    "wrapper.encode_superpixels()\n",
    "\n"
   ]
  },
  {
   "cell_type": "code",
   "execution_count": 113,
   "metadata": {},
   "outputs": [],
   "source": [
    "import shap"
   ]
  },
  {
   "cell_type": "code",
   "execution_count": 114,
   "metadata": {},
   "outputs": [],
   "source": [
    "img = train_set[0][0]\n",
    "probabilities = torch.nn.functional.softmax(model(img), dim=1).squeeze(0)\n",
    "predicted_class = probabilities.argmax(dim=0).numpy()\n",
    "img = img.squeeze().numpy()\n",
    "\n",
    "wrapper = ImageSuperpixelWrapper(img, classifier=model, explanation_index=predicted_class)\n",
    "\n",
    "binary_encode = wrapper.vector\n",
    "x_train = np.zeros((1, binary_encode.shape[0]))\n",
    "\n"
   ]
  },
  {
   "cell_type": "code",
   "execution_count": 117,
   "metadata": {},
   "outputs": [
    {
     "data": {
      "text/plain": [
       "0.10416316"
      ]
     },
     "execution_count": 117,
     "metadata": {},
     "output_type": "execute_result"
    }
   ],
   "source": [
    "wrapper(x_train)"
   ]
  },
  {
   "cell_type": "code",
   "execution_count": 118,
   "metadata": {},
   "outputs": [
    {
     "ename": "IndexError",
     "evalue": "tuple index out of range",
     "output_type": "error",
     "traceback": [
      "\u001b[0;31m---------------------------------------------------------------------------\u001b[0m",
      "\u001b[0;31mIndexError\u001b[0m                                Traceback (most recent call last)",
      "Cell \u001b[0;32mIn[118], line 1\u001b[0m\n\u001b[0;32m----> 1\u001b[0m explainer \u001b[38;5;241m=\u001b[39m \u001b[43mshap\u001b[49m\u001b[38;5;241;43m.\u001b[39;49m\u001b[43mKernelExplainer\u001b[49m\u001b[43m(\u001b[49m\u001b[43mwrapper\u001b[49m\u001b[43m,\u001b[49m\u001b[43m \u001b[49m\u001b[43mx_train\u001b[49m\u001b[43m)\u001b[49m\n",
      "File \u001b[0;32m~/surfdrive/Research/Explainable AI/Code/Game/pyenv/lib/python3.9/site-packages/shap/explainers/_kernel.py:97\u001b[0m, in \u001b[0;36mKernelExplainer.__init__\u001b[0;34m(self, model, data, feature_names, link, **kwargs)\u001b[0m\n\u001b[1;32m     95\u001b[0m \u001b[38;5;28mself\u001b[39m\u001b[38;5;241m.\u001b[39mmodel \u001b[38;5;241m=\u001b[39m convert_to_model(model, keep_index\u001b[38;5;241m=\u001b[39m\u001b[38;5;28mself\u001b[39m\u001b[38;5;241m.\u001b[39mkeep_index)\n\u001b[1;32m     96\u001b[0m \u001b[38;5;28mself\u001b[39m\u001b[38;5;241m.\u001b[39mdata \u001b[38;5;241m=\u001b[39m convert_to_data(data, keep_index\u001b[38;5;241m=\u001b[39m\u001b[38;5;28mself\u001b[39m\u001b[38;5;241m.\u001b[39mkeep_index)\n\u001b[0;32m---> 97\u001b[0m model_null \u001b[38;5;241m=\u001b[39m \u001b[43mmatch_model_to_data\u001b[49m\u001b[43m(\u001b[49m\u001b[38;5;28;43mself\u001b[39;49m\u001b[38;5;241;43m.\u001b[39;49m\u001b[43mmodel\u001b[49m\u001b[43m,\u001b[49m\u001b[43m \u001b[49m\u001b[38;5;28;43mself\u001b[39;49m\u001b[38;5;241;43m.\u001b[39;49m\u001b[43mdata\u001b[49m\u001b[43m)\u001b[49m\n\u001b[1;32m     99\u001b[0m \u001b[38;5;66;03m# enforce our current input type limitations\u001b[39;00m\n\u001b[1;32m    100\u001b[0m \u001b[38;5;28;01mif\u001b[39;00m \u001b[38;5;129;01mnot\u001b[39;00m \u001b[38;5;28misinstance\u001b[39m(\u001b[38;5;28mself\u001b[39m\u001b[38;5;241m.\u001b[39mdata, (DenseData, SparseData)):\n",
      "File \u001b[0;32m~/surfdrive/Research/Explainable AI/Code/Game/pyenv/lib/python3.9/site-packages/shap/utils/_legacy.py:148\u001b[0m, in \u001b[0;36mmatch_model_to_data\u001b[0;34m(model, data)\u001b[0m\n\u001b[1;32m    146\u001b[0m         model\u001b[38;5;241m.\u001b[39mout_names \u001b[38;5;241m=\u001b[39m [\u001b[38;5;124m\"\u001b[39m\u001b[38;5;124moutput value\u001b[39m\u001b[38;5;124m\"\u001b[39m]\n\u001b[1;32m    147\u001b[0m     \u001b[38;5;28;01melse\u001b[39;00m:\n\u001b[0;32m--> 148\u001b[0m         model\u001b[38;5;241m.\u001b[39mout_names \u001b[38;5;241m=\u001b[39m [\u001b[38;5;124m\"\u001b[39m\u001b[38;5;124moutput value \u001b[39m\u001b[38;5;124m\"\u001b[39m\u001b[38;5;241m+\u001b[39m\u001b[38;5;28mstr\u001b[39m(i) \u001b[38;5;28;01mfor\u001b[39;00m i \u001b[38;5;129;01min\u001b[39;00m \u001b[38;5;28mrange\u001b[39m(\u001b[43mout_val\u001b[49m\u001b[38;5;241;43m.\u001b[39;49m\u001b[43mshape\u001b[49m\u001b[43m[\u001b[49m\u001b[38;5;241;43m0\u001b[39;49m\u001b[43m]\u001b[49m)]\n\u001b[1;32m    150\u001b[0m \u001b[38;5;28;01mreturn\u001b[39;00m out_val\n",
      "\u001b[0;31mIndexError\u001b[0m: tuple index out of range"
     ]
    }
   ],
   "source": [
    "explainer = shap.KernelExplainer(wrapper, x_train)"
   ]
  },
  {
   "cell_type": "code",
   "execution_count": 84,
   "metadata": {},
   "outputs": [],
   "source": [
    "\n"
   ]
  },
  {
   "cell_type": "code",
   "execution_count": 91,
   "metadata": {},
   "outputs": [
    {
     "name": "stdout",
     "output_type": "stream",
     "text": [
      "5\n"
     ]
    }
   ],
   "source": [
    "print(predicted_class.numpy())"
   ]
  },
  {
   "cell_type": "code",
   "execution_count": null,
   "metadata": {},
   "outputs": [],
   "source": []
  }
 ],
 "metadata": {
  "kernelspec": {
   "display_name": "pyenv",
   "language": "python",
   "name": "python3"
  },
  "language_info": {
   "codemirror_mode": {
    "name": "ipython",
    "version": 3
   },
   "file_extension": ".py",
   "mimetype": "text/x-python",
   "name": "python",
   "nbconvert_exporter": "python",
   "pygments_lexer": "ipython3",
   "version": "3.9.4"
  }
 },
 "nbformat": 4,
 "nbformat_minor": 2
}
